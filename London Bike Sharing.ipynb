{
 "cells": [
  {
   "cell_type": "markdown",
   "metadata": {},
   "source": [
    "# London Bike Sharing"
   ]
  },
  {
   "cell_type": "markdown",
   "metadata": {},
   "source": [
    "Metadata:\n",
    "\"timestamp\" - timestamp field for grouping the data\n",
    "\"cnt\" - the count of a new bike shares\n",
    "\"t1\" - real temperature in C\n",
    "\"t2\" - temperature in C \"feels like\"\n",
    "\"hum\" - humidity in percentage\n",
    "\"windspeed\" - wind speed in km/h\n",
    "\"weathercode\" - category of the weather\n",
    "\"isholiday\" - boolean field - 1 holiday / 0 non holiday\n",
    "\"isweekend\" - boolean field - 1 if the day is weekend\n",
    "\"season\" - category field meteorological seasons: 0-spring ; 1-summer; 2-fall; 3-winter.\n",
    "\n",
    "\"weathe_code\" category description:\n",
    "1 = Clear ; mostly clear but have some values with haze/fog/patches of fog/ fog in vicinity 2 = scattered clouds / few clouds 3 = Broken clouds 4 = Cloudy 7 = Rain/ light Rain shower/ Light rain 10 = rain with thunderstorm 26 = snowfall 94 = Freezing Fog"
   ]
  },
  {
   "cell_type": "code",
   "execution_count": 1,
   "metadata": {},
   "outputs": [],
   "source": [
    "import pandas as pd\n",
    "import numpy as np\n",
    "import seaborn as sns\n",
    "import matplotlib.pyplot as plt\n",
    "import tensorflow as tf"
   ]
  },
  {
   "cell_type": "code",
   "execution_count": 2,
   "metadata": {},
   "outputs": [
    {
     "data": {
      "text/html": [
       "<div>\n",
       "<style scoped>\n",
       "    .dataframe tbody tr th:only-of-type {\n",
       "        vertical-align: middle;\n",
       "    }\n",
       "\n",
       "    .dataframe tbody tr th {\n",
       "        vertical-align: top;\n",
       "    }\n",
       "\n",
       "    .dataframe thead th {\n",
       "        text-align: right;\n",
       "    }\n",
       "</style>\n",
       "<table border=\"1\" class=\"dataframe\">\n",
       "  <thead>\n",
       "    <tr style=\"text-align: right;\">\n",
       "      <th></th>\n",
       "      <th>timestamp</th>\n",
       "      <th>cnt</th>\n",
       "      <th>t1</th>\n",
       "      <th>t2</th>\n",
       "      <th>hum</th>\n",
       "      <th>wind_speed</th>\n",
       "      <th>weather_code</th>\n",
       "      <th>is_holiday</th>\n",
       "      <th>is_weekend</th>\n",
       "      <th>season</th>\n",
       "    </tr>\n",
       "  </thead>\n",
       "  <tbody>\n",
       "    <tr>\n",
       "      <th>0</th>\n",
       "      <td>2015-01-04 00:00:00</td>\n",
       "      <td>182</td>\n",
       "      <td>3.0</td>\n",
       "      <td>2.0</td>\n",
       "      <td>93.0</td>\n",
       "      <td>6.0</td>\n",
       "      <td>3.0</td>\n",
       "      <td>0.0</td>\n",
       "      <td>1.0</td>\n",
       "      <td>3.0</td>\n",
       "    </tr>\n",
       "    <tr>\n",
       "      <th>1</th>\n",
       "      <td>2015-01-04 01:00:00</td>\n",
       "      <td>138</td>\n",
       "      <td>3.0</td>\n",
       "      <td>2.5</td>\n",
       "      <td>93.0</td>\n",
       "      <td>5.0</td>\n",
       "      <td>1.0</td>\n",
       "      <td>0.0</td>\n",
       "      <td>1.0</td>\n",
       "      <td>3.0</td>\n",
       "    </tr>\n",
       "    <tr>\n",
       "      <th>2</th>\n",
       "      <td>2015-01-04 02:00:00</td>\n",
       "      <td>134</td>\n",
       "      <td>2.5</td>\n",
       "      <td>2.5</td>\n",
       "      <td>96.5</td>\n",
       "      <td>0.0</td>\n",
       "      <td>1.0</td>\n",
       "      <td>0.0</td>\n",
       "      <td>1.0</td>\n",
       "      <td>3.0</td>\n",
       "    </tr>\n",
       "    <tr>\n",
       "      <th>3</th>\n",
       "      <td>2015-01-04 03:00:00</td>\n",
       "      <td>72</td>\n",
       "      <td>2.0</td>\n",
       "      <td>2.0</td>\n",
       "      <td>100.0</td>\n",
       "      <td>0.0</td>\n",
       "      <td>1.0</td>\n",
       "      <td>0.0</td>\n",
       "      <td>1.0</td>\n",
       "      <td>3.0</td>\n",
       "    </tr>\n",
       "    <tr>\n",
       "      <th>4</th>\n",
       "      <td>2015-01-04 04:00:00</td>\n",
       "      <td>47</td>\n",
       "      <td>2.0</td>\n",
       "      <td>0.0</td>\n",
       "      <td>93.0</td>\n",
       "      <td>6.5</td>\n",
       "      <td>1.0</td>\n",
       "      <td>0.0</td>\n",
       "      <td>1.0</td>\n",
       "      <td>3.0</td>\n",
       "    </tr>\n",
       "  </tbody>\n",
       "</table>\n",
       "</div>"
      ],
      "text/plain": [
       "             timestamp  cnt   t1   t2    hum  wind_speed  weather_code  \\\n",
       "0  2015-01-04 00:00:00  182  3.0  2.0   93.0         6.0           3.0   \n",
       "1  2015-01-04 01:00:00  138  3.0  2.5   93.0         5.0           1.0   \n",
       "2  2015-01-04 02:00:00  134  2.5  2.5   96.5         0.0           1.0   \n",
       "3  2015-01-04 03:00:00   72  2.0  2.0  100.0         0.0           1.0   \n",
       "4  2015-01-04 04:00:00   47  2.0  0.0   93.0         6.5           1.0   \n",
       "\n",
       "   is_holiday  is_weekend  season  \n",
       "0         0.0         1.0     3.0  \n",
       "1         0.0         1.0     3.0  \n",
       "2         0.0         1.0     3.0  \n",
       "3         0.0         1.0     3.0  \n",
       "4         0.0         1.0     3.0  "
      ]
     },
     "execution_count": 2,
     "metadata": {},
     "output_type": "execute_result"
    }
   ],
   "source": [
    "df = pd.read_csv(\"london_merged.csv\")\n",
    "df.head()"
   ]
  },
  {
   "cell_type": "code",
   "execution_count": 7,
   "metadata": {},
   "outputs": [],
   "source": [
    "df[\"time\"] = pd.to_datetime(df[\"timestamp\"])\n",
    "df = df.set_index(\"time\")\n",
    "df = df.drop(\"timestamp\",axis=1)"
   ]
  },
  {
   "cell_type": "code",
   "execution_count": 8,
   "metadata": {},
   "outputs": [
    {
     "data": {
      "text/html": [
       "<div>\n",
       "<style scoped>\n",
       "    .dataframe tbody tr th:only-of-type {\n",
       "        vertical-align: middle;\n",
       "    }\n",
       "\n",
       "    .dataframe tbody tr th {\n",
       "        vertical-align: top;\n",
       "    }\n",
       "\n",
       "    .dataframe thead th {\n",
       "        text-align: right;\n",
       "    }\n",
       "</style>\n",
       "<table border=\"1\" class=\"dataframe\">\n",
       "  <thead>\n",
       "    <tr style=\"text-align: right;\">\n",
       "      <th></th>\n",
       "      <th>cnt</th>\n",
       "      <th>t1</th>\n",
       "      <th>t2</th>\n",
       "      <th>hum</th>\n",
       "      <th>wind_speed</th>\n",
       "      <th>weather_code</th>\n",
       "      <th>is_holiday</th>\n",
       "      <th>is_weekend</th>\n",
       "      <th>season</th>\n",
       "    </tr>\n",
       "    <tr>\n",
       "      <th>time</th>\n",
       "      <th></th>\n",
       "      <th></th>\n",
       "      <th></th>\n",
       "      <th></th>\n",
       "      <th></th>\n",
       "      <th></th>\n",
       "      <th></th>\n",
       "      <th></th>\n",
       "      <th></th>\n",
       "    </tr>\n",
       "  </thead>\n",
       "  <tbody>\n",
       "    <tr>\n",
       "      <th>2015-01-04 00:00:00</th>\n",
       "      <td>182</td>\n",
       "      <td>3.0</td>\n",
       "      <td>2.0</td>\n",
       "      <td>93.0</td>\n",
       "      <td>6.0</td>\n",
       "      <td>3.0</td>\n",
       "      <td>0.0</td>\n",
       "      <td>1.0</td>\n",
       "      <td>3.0</td>\n",
       "    </tr>\n",
       "    <tr>\n",
       "      <th>2015-01-04 01:00:00</th>\n",
       "      <td>138</td>\n",
       "      <td>3.0</td>\n",
       "      <td>2.5</td>\n",
       "      <td>93.0</td>\n",
       "      <td>5.0</td>\n",
       "      <td>1.0</td>\n",
       "      <td>0.0</td>\n",
       "      <td>1.0</td>\n",
       "      <td>3.0</td>\n",
       "    </tr>\n",
       "    <tr>\n",
       "      <th>2015-01-04 02:00:00</th>\n",
       "      <td>134</td>\n",
       "      <td>2.5</td>\n",
       "      <td>2.5</td>\n",
       "      <td>96.5</td>\n",
       "      <td>0.0</td>\n",
       "      <td>1.0</td>\n",
       "      <td>0.0</td>\n",
       "      <td>1.0</td>\n",
       "      <td>3.0</td>\n",
       "    </tr>\n",
       "    <tr>\n",
       "      <th>2015-01-04 03:00:00</th>\n",
       "      <td>72</td>\n",
       "      <td>2.0</td>\n",
       "      <td>2.0</td>\n",
       "      <td>100.0</td>\n",
       "      <td>0.0</td>\n",
       "      <td>1.0</td>\n",
       "      <td>0.0</td>\n",
       "      <td>1.0</td>\n",
       "      <td>3.0</td>\n",
       "    </tr>\n",
       "    <tr>\n",
       "      <th>2015-01-04 04:00:00</th>\n",
       "      <td>47</td>\n",
       "      <td>2.0</td>\n",
       "      <td>0.0</td>\n",
       "      <td>93.0</td>\n",
       "      <td>6.5</td>\n",
       "      <td>1.0</td>\n",
       "      <td>0.0</td>\n",
       "      <td>1.0</td>\n",
       "      <td>3.0</td>\n",
       "    </tr>\n",
       "  </tbody>\n",
       "</table>\n",
       "</div>"
      ],
      "text/plain": [
       "                     cnt   t1   t2    hum  wind_speed  weather_code  \\\n",
       "time                                                                  \n",
       "2015-01-04 00:00:00  182  3.0  2.0   93.0         6.0           3.0   \n",
       "2015-01-04 01:00:00  138  3.0  2.5   93.0         5.0           1.0   \n",
       "2015-01-04 02:00:00  134  2.5  2.5   96.5         0.0           1.0   \n",
       "2015-01-04 03:00:00   72  2.0  2.0  100.0         0.0           1.0   \n",
       "2015-01-04 04:00:00   47  2.0  0.0   93.0         6.5           1.0   \n",
       "\n",
       "                     is_holiday  is_weekend  season  \n",
       "time                                                 \n",
       "2015-01-04 00:00:00         0.0         1.0     3.0  \n",
       "2015-01-04 01:00:00         0.0         1.0     3.0  \n",
       "2015-01-04 02:00:00         0.0         1.0     3.0  \n",
       "2015-01-04 03:00:00         0.0         1.0     3.0  \n",
       "2015-01-04 04:00:00         0.0         1.0     3.0  "
      ]
     },
     "execution_count": 8,
     "metadata": {},
     "output_type": "execute_result"
    }
   ],
   "source": [
    "df.head()"
   ]
  },
  {
   "cell_type": "code",
   "execution_count": 9,
   "metadata": {},
   "outputs": [
    {
     "data": {
      "text/plain": [
       "cnt             0\n",
       "t1              0\n",
       "t2              0\n",
       "hum             0\n",
       "wind_speed      0\n",
       "weather_code    0\n",
       "is_holiday      0\n",
       "is_weekend      0\n",
       "season          0\n",
       "dtype: int64"
      ]
     },
     "execution_count": 9,
     "metadata": {},
     "output_type": "execute_result"
    }
   ],
   "source": [
    "df.isna().sum()"
   ]
  },
  {
   "cell_type": "code",
   "execution_count": 10,
   "metadata": {},
   "outputs": [
    {
     "data": {
      "text/plain": [
       "cnt               int64\n",
       "t1              float64\n",
       "t2              float64\n",
       "hum             float64\n",
       "wind_speed      float64\n",
       "weather_code    float64\n",
       "is_holiday      float64\n",
       "is_weekend      float64\n",
       "season          float64\n",
       "dtype: object"
      ]
     },
     "execution_count": 10,
     "metadata": {},
     "output_type": "execute_result"
    }
   ],
   "source": [
    "df.dtypes"
   ]
  },
  {
   "cell_type": "code",
   "execution_count": 11,
   "metadata": {},
   "outputs": [
    {
     "data": {
      "text/html": [
       "<div>\n",
       "<style scoped>\n",
       "    .dataframe tbody tr th:only-of-type {\n",
       "        vertical-align: middle;\n",
       "    }\n",
       "\n",
       "    .dataframe tbody tr th {\n",
       "        vertical-align: top;\n",
       "    }\n",
       "\n",
       "    .dataframe thead th {\n",
       "        text-align: right;\n",
       "    }\n",
       "</style>\n",
       "<table border=\"1\" class=\"dataframe\">\n",
       "  <thead>\n",
       "    <tr style=\"text-align: right;\">\n",
       "      <th></th>\n",
       "      <th>cnt</th>\n",
       "      <th>t1</th>\n",
       "      <th>t2</th>\n",
       "      <th>hum</th>\n",
       "      <th>wind_speed</th>\n",
       "      <th>weather_code</th>\n",
       "      <th>is_holiday</th>\n",
       "      <th>is_weekend</th>\n",
       "      <th>season</th>\n",
       "    </tr>\n",
       "    <tr>\n",
       "      <th>time</th>\n",
       "      <th></th>\n",
       "      <th></th>\n",
       "      <th></th>\n",
       "      <th></th>\n",
       "      <th></th>\n",
       "      <th></th>\n",
       "      <th></th>\n",
       "      <th></th>\n",
       "      <th></th>\n",
       "    </tr>\n",
       "  </thead>\n",
       "  <tbody>\n",
       "    <tr>\n",
       "      <th>2015-01-04 00:00:00</th>\n",
       "      <td>182</td>\n",
       "      <td>3.0</td>\n",
       "      <td>2.0</td>\n",
       "      <td>93.0</td>\n",
       "      <td>6.0</td>\n",
       "      <td>3</td>\n",
       "      <td>0</td>\n",
       "      <td>1</td>\n",
       "      <td>3</td>\n",
       "    </tr>\n",
       "    <tr>\n",
       "      <th>2015-01-04 01:00:00</th>\n",
       "      <td>138</td>\n",
       "      <td>3.0</td>\n",
       "      <td>2.5</td>\n",
       "      <td>93.0</td>\n",
       "      <td>5.0</td>\n",
       "      <td>1</td>\n",
       "      <td>0</td>\n",
       "      <td>1</td>\n",
       "      <td>3</td>\n",
       "    </tr>\n",
       "    <tr>\n",
       "      <th>2015-01-04 02:00:00</th>\n",
       "      <td>134</td>\n",
       "      <td>2.5</td>\n",
       "      <td>2.5</td>\n",
       "      <td>96.5</td>\n",
       "      <td>0.0</td>\n",
       "      <td>1</td>\n",
       "      <td>0</td>\n",
       "      <td>1</td>\n",
       "      <td>3</td>\n",
       "    </tr>\n",
       "    <tr>\n",
       "      <th>2015-01-04 03:00:00</th>\n",
       "      <td>72</td>\n",
       "      <td>2.0</td>\n",
       "      <td>2.0</td>\n",
       "      <td>100.0</td>\n",
       "      <td>0.0</td>\n",
       "      <td>1</td>\n",
       "      <td>0</td>\n",
       "      <td>1</td>\n",
       "      <td>3</td>\n",
       "    </tr>\n",
       "    <tr>\n",
       "      <th>2015-01-04 04:00:00</th>\n",
       "      <td>47</td>\n",
       "      <td>2.0</td>\n",
       "      <td>0.0</td>\n",
       "      <td>93.0</td>\n",
       "      <td>6.5</td>\n",
       "      <td>1</td>\n",
       "      <td>0</td>\n",
       "      <td>1</td>\n",
       "      <td>3</td>\n",
       "    </tr>\n",
       "  </tbody>\n",
       "</table>\n",
       "</div>"
      ],
      "text/plain": [
       "                     cnt   t1   t2    hum  wind_speed  weather_code  \\\n",
       "time                                                                  \n",
       "2015-01-04 00:00:00  182  3.0  2.0   93.0         6.0             3   \n",
       "2015-01-04 01:00:00  138  3.0  2.5   93.0         5.0             1   \n",
       "2015-01-04 02:00:00  134  2.5  2.5   96.5         0.0             1   \n",
       "2015-01-04 03:00:00   72  2.0  2.0  100.0         0.0             1   \n",
       "2015-01-04 04:00:00   47  2.0  0.0   93.0         6.5             1   \n",
       "\n",
       "                     is_holiday  is_weekend  season  \n",
       "time                                                 \n",
       "2015-01-04 00:00:00           0           1       3  \n",
       "2015-01-04 01:00:00           0           1       3  \n",
       "2015-01-04 02:00:00           0           1       3  \n",
       "2015-01-04 03:00:00           0           1       3  \n",
       "2015-01-04 04:00:00           0           1       3  "
      ]
     },
     "execution_count": 11,
     "metadata": {},
     "output_type": "execute_result"
    }
   ],
   "source": [
    "df = df.astype({\"weather_code\":int,\"is_holiday\":int,\"is_weekend\":int,\"season\":int})\n",
    "df.head()"
   ]
  },
  {
   "cell_type": "code",
   "execution_count": 46,
   "metadata": {},
   "outputs": [
    {
     "data": {
      "text/plain": [
       "(17414, 9)"
      ]
     },
     "execution_count": 46,
     "metadata": {},
     "output_type": "execute_result"
    }
   ],
   "source": [
    "df.shape"
   ]
  },
  {
   "cell_type": "code",
   "execution_count": 14,
   "metadata": {},
   "outputs": [],
   "source": [
    "weathercode = {1:\"Clear\",2:\"Scattered Clouds\",3:\"Broken Clouds\",\n",
    "               4:\"Cloudy\",7:\"Light Rain\",10:\"Rain Thunderstorm\",\n",
    "               26:\"Snowfall\",94:\"Freezing Fog\"}"
   ]
  },
  {
   "cell_type": "code",
   "execution_count": 13,
   "metadata": {},
   "outputs": [],
   "source": [
    "seasons = {0:\"Spring\",1:\"Summer\",2:\"Fall\",3:\"Winter\"}"
   ]
  },
  {
   "cell_type": "code",
   "execution_count": 16,
   "metadata": {},
   "outputs": [
    {
     "data": {
      "text/html": [
       "<div>\n",
       "<style scoped>\n",
       "    .dataframe tbody tr th:only-of-type {\n",
       "        vertical-align: middle;\n",
       "    }\n",
       "\n",
       "    .dataframe tbody tr th {\n",
       "        vertical-align: top;\n",
       "    }\n",
       "\n",
       "    .dataframe thead th {\n",
       "        text-align: right;\n",
       "    }\n",
       "</style>\n",
       "<table border=\"1\" class=\"dataframe\">\n",
       "  <thead>\n",
       "    <tr style=\"text-align: right;\">\n",
       "      <th></th>\n",
       "      <th>cnt</th>\n",
       "      <th>t1</th>\n",
       "      <th>t2</th>\n",
       "      <th>hum</th>\n",
       "      <th>wind_speed</th>\n",
       "      <th>weather_code</th>\n",
       "      <th>is_holiday</th>\n",
       "      <th>is_weekend</th>\n",
       "      <th>season</th>\n",
       "    </tr>\n",
       "    <tr>\n",
       "      <th>time</th>\n",
       "      <th></th>\n",
       "      <th></th>\n",
       "      <th></th>\n",
       "      <th></th>\n",
       "      <th></th>\n",
       "      <th></th>\n",
       "      <th></th>\n",
       "      <th></th>\n",
       "      <th></th>\n",
       "    </tr>\n",
       "  </thead>\n",
       "  <tbody>\n",
       "    <tr>\n",
       "      <th>2015-01-04 00:00:00</th>\n",
       "      <td>182</td>\n",
       "      <td>3.0</td>\n",
       "      <td>2.0</td>\n",
       "      <td>93.0</td>\n",
       "      <td>6.0</td>\n",
       "      <td>Broken Clouds</td>\n",
       "      <td>0</td>\n",
       "      <td>1</td>\n",
       "      <td>Winter</td>\n",
       "    </tr>\n",
       "    <tr>\n",
       "      <th>2015-01-04 01:00:00</th>\n",
       "      <td>138</td>\n",
       "      <td>3.0</td>\n",
       "      <td>2.5</td>\n",
       "      <td>93.0</td>\n",
       "      <td>5.0</td>\n",
       "      <td>Clear</td>\n",
       "      <td>0</td>\n",
       "      <td>1</td>\n",
       "      <td>Winter</td>\n",
       "    </tr>\n",
       "    <tr>\n",
       "      <th>2015-01-04 02:00:00</th>\n",
       "      <td>134</td>\n",
       "      <td>2.5</td>\n",
       "      <td>2.5</td>\n",
       "      <td>96.5</td>\n",
       "      <td>0.0</td>\n",
       "      <td>Clear</td>\n",
       "      <td>0</td>\n",
       "      <td>1</td>\n",
       "      <td>Winter</td>\n",
       "    </tr>\n",
       "    <tr>\n",
       "      <th>2015-01-04 03:00:00</th>\n",
       "      <td>72</td>\n",
       "      <td>2.0</td>\n",
       "      <td>2.0</td>\n",
       "      <td>100.0</td>\n",
       "      <td>0.0</td>\n",
       "      <td>Clear</td>\n",
       "      <td>0</td>\n",
       "      <td>1</td>\n",
       "      <td>Winter</td>\n",
       "    </tr>\n",
       "    <tr>\n",
       "      <th>2015-01-04 04:00:00</th>\n",
       "      <td>47</td>\n",
       "      <td>2.0</td>\n",
       "      <td>0.0</td>\n",
       "      <td>93.0</td>\n",
       "      <td>6.5</td>\n",
       "      <td>Clear</td>\n",
       "      <td>0</td>\n",
       "      <td>1</td>\n",
       "      <td>Winter</td>\n",
       "    </tr>\n",
       "  </tbody>\n",
       "</table>\n",
       "</div>"
      ],
      "text/plain": [
       "                     cnt   t1   t2    hum  wind_speed   weather_code  \\\n",
       "time                                                                   \n",
       "2015-01-04 00:00:00  182  3.0  2.0   93.0         6.0  Broken Clouds   \n",
       "2015-01-04 01:00:00  138  3.0  2.5   93.0         5.0          Clear   \n",
       "2015-01-04 02:00:00  134  2.5  2.5   96.5         0.0          Clear   \n",
       "2015-01-04 03:00:00   72  2.0  2.0  100.0         0.0          Clear   \n",
       "2015-01-04 04:00:00   47  2.0  0.0   93.0         6.5          Clear   \n",
       "\n",
       "                     is_holiday  is_weekend  season  \n",
       "time                                                 \n",
       "2015-01-04 00:00:00           0           1  Winter  \n",
       "2015-01-04 01:00:00           0           1  Winter  \n",
       "2015-01-04 02:00:00           0           1  Winter  \n",
       "2015-01-04 03:00:00           0           1  Winter  \n",
       "2015-01-04 04:00:00           0           1  Winter  "
      ]
     },
     "execution_count": 16,
     "metadata": {},
     "output_type": "execute_result"
    }
   ],
   "source": [
    "df[\"weather_code\"] = df[\"weather_code\"].replace(weathercode)\n",
    "df[\"season\"] = df[\"season\"].replace(seasons)\n",
    "df.head()"
   ]
  },
  {
   "cell_type": "code",
   "execution_count": 26,
   "metadata": {},
   "outputs": [
    {
     "data": {
      "image/png": "[encoded data removed]",
      "text/plain": [
       "<Figure size 864x720 with 2 Axes>"
      ]
     },
     "metadata": {
      "needs_background": "light"
     },
     "output_type": "display_data"
    }
   ],
   "source": [
    "plt.figure(figsize=(12,10))\n",
    "sns.heatmap(df.corr(),annot=True)\n",
    "plt.ylim(7,0);"
   ]
  },
  {
   "cell_type": "code",
   "execution_count": 35,
   "metadata": {},
   "outputs": [
    {
     "data": {
      "text/html": [
       "<div>\n",
       "<style scoped>\n",
       "    .dataframe tbody tr th:only-of-type {\n",
       "        vertical-align: middle;\n",
       "    }\n",
       "\n",
       "    .dataframe tbody tr th {\n",
       "        vertical-align: top;\n",
       "    }\n",
       "\n",
       "    .dataframe thead th {\n",
       "        text-align: right;\n",
       "    }\n",
       "</style>\n",
       "<table border=\"1\" class=\"dataframe\">\n",
       "  <thead>\n",
       "    <tr style=\"text-align: right;\">\n",
       "      <th></th>\n",
       "      <th>count</th>\n",
       "      <th>mean</th>\n",
       "      <th>std</th>\n",
       "      <th>min</th>\n",
       "      <th>25%</th>\n",
       "      <th>50%</th>\n",
       "      <th>75%</th>\n",
       "      <th>max</th>\n",
       "    </tr>\n",
       "  </thead>\n",
       "  <tbody>\n",
       "    <tr>\n",
       "      <th>cnt</th>\n",
       "      <td>17414.0</td>\n",
       "      <td>1143.101642</td>\n",
       "      <td>1085.108068</td>\n",
       "      <td>0.0</td>\n",
       "      <td>257.0</td>\n",
       "      <td>844.0</td>\n",
       "      <td>1671.75</td>\n",
       "      <td>7860.0</td>\n",
       "    </tr>\n",
       "    <tr>\n",
       "      <th>t1</th>\n",
       "      <td>17414.0</td>\n",
       "      <td>12.468091</td>\n",
       "      <td>5.571818</td>\n",
       "      <td>-1.5</td>\n",
       "      <td>8.0</td>\n",
       "      <td>12.5</td>\n",
       "      <td>16.00</td>\n",
       "      <td>34.0</td>\n",
       "    </tr>\n",
       "    <tr>\n",
       "      <th>t2</th>\n",
       "      <td>17414.0</td>\n",
       "      <td>11.520836</td>\n",
       "      <td>6.615145</td>\n",
       "      <td>-6.0</td>\n",
       "      <td>6.0</td>\n",
       "      <td>12.5</td>\n",
       "      <td>16.00</td>\n",
       "      <td>34.0</td>\n",
       "    </tr>\n",
       "    <tr>\n",
       "      <th>hum</th>\n",
       "      <td>17414.0</td>\n",
       "      <td>72.324954</td>\n",
       "      <td>14.313186</td>\n",
       "      <td>20.5</td>\n",
       "      <td>63.0</td>\n",
       "      <td>74.5</td>\n",
       "      <td>83.00</td>\n",
       "      <td>100.0</td>\n",
       "    </tr>\n",
       "    <tr>\n",
       "      <th>wind_speed</th>\n",
       "      <td>17414.0</td>\n",
       "      <td>15.913063</td>\n",
       "      <td>7.894570</td>\n",
       "      <td>0.0</td>\n",
       "      <td>10.0</td>\n",
       "      <td>15.0</td>\n",
       "      <td>20.50</td>\n",
       "      <td>56.5</td>\n",
       "    </tr>\n",
       "    <tr>\n",
       "      <th>is_holiday</th>\n",
       "      <td>17414.0</td>\n",
       "      <td>0.022051</td>\n",
       "      <td>0.146854</td>\n",
       "      <td>0.0</td>\n",
       "      <td>0.0</td>\n",
       "      <td>0.0</td>\n",
       "      <td>0.00</td>\n",
       "      <td>1.0</td>\n",
       "    </tr>\n",
       "    <tr>\n",
       "      <th>is_weekend</th>\n",
       "      <td>17414.0</td>\n",
       "      <td>0.285403</td>\n",
       "      <td>0.451619</td>\n",
       "      <td>0.0</td>\n",
       "      <td>0.0</td>\n",
       "      <td>0.0</td>\n",
       "      <td>1.00</td>\n",
       "      <td>1.0</td>\n",
       "    </tr>\n",
       "  </tbody>\n",
       "</table>\n",
       "</div>"
      ],
      "text/plain": [
       "              count         mean          std   min    25%    50%      75%  \\\n",
       "cnt         17414.0  1143.101642  1085.108068   0.0  257.0  844.0  1671.75   \n",
       "t1          17414.0    12.468091     5.571818  -1.5    8.0   12.5    16.00   \n",
       "t2          17414.0    11.520836     6.615145  -6.0    6.0   12.5    16.00   \n",
       "hum         17414.0    72.324954    14.313186  20.5   63.0   74.5    83.00   \n",
       "wind_speed  17414.0    15.913063     7.894570   0.0   10.0   15.0    20.50   \n",
       "is_holiday  17414.0     0.022051     0.146854   0.0    0.0    0.0     0.00   \n",
       "is_weekend  17414.0     0.285403     0.451619   0.0    0.0    0.0     1.00   \n",
       "\n",
       "               max  \n",
       "cnt         7860.0  \n",
       "t1            34.0  \n",
       "t2            34.0  \n",
       "hum          100.0  \n",
       "wind_speed    56.5  \n",
       "is_holiday     1.0  \n",
       "is_weekend     1.0  "
      ]
     },
     "execution_count": 35,
     "metadata": {},
     "output_type": "execute_result"
    }
   ],
   "source": [
    "df.describe().T"
   ]
  },
  {
   "cell_type": "code",
   "execution_count": 33,
   "metadata": {},
   "outputs": [
    {
     "data": {
      "image/png": "[encoded data removed]",
      "text/plain": [
       "<Figure size 576x432 with 1 Axes>"
      ]
     },
     "metadata": {
      "needs_background": "light"
     },
     "output_type": "display_data"
    }
   ],
   "source": [
    "plt.figure(figsize=(8,6))\n",
    "sns.distplot(df[\"cnt\"],kde=False,bins=50,label=\"Distrubition of 'cnt'\")\n",
    "plt.axvline(df[\"cnt\"].median(),c=\"r\",label=\"Median of 'cnt'\")\n",
    "plt.legend();"
   ]
  },
  {
   "cell_type": "code",
   "execution_count": 34,
   "metadata": {},
   "outputs": [],
   "source": [
    "cat = [] # categorical features\n",
    "con = [] # continuous feature"
   ]
  },
  {
   "cell_type": "code",
   "execution_count": 38,
   "metadata": {},
   "outputs": [
    {
     "data": {
      "image/png": "[encoded data removed]",
      "text/plain": [
       "<Figure size 576x432 with 1 Axes>"
      ]
     },
     "metadata": {
      "needs_background": "light"
     },
     "output_type": "display_data"
    }
   ],
   "source": [
    "plt.figure(figsize=(8,6))\n",
    "sns.distplot(df[\"t1\"],kde=False,bins=25,label=\"t1\")\n",
    "plt.axvline(df[\"t1\"].median(),c=\"r\",label=\"Median of 't1'\")\n",
    "plt.legend();"
   ]
  },
  {
   "cell_type": "code",
   "execution_count": 39,
   "metadata": {},
   "outputs": [],
   "source": [
    "con.append(\"t1\")"
   ]
  },
  {
   "cell_type": "code",
   "execution_count": 40,
   "metadata": {},
   "outputs": [
    {
     "data": {
      "image/png": "[encoded data removed]",
      "text/plain": [
       "<Figure size 576x432 with 1 Axes>"
      ]
     },
     "metadata": {
      "needs_background": "light"
     },
     "output_type": "display_data"
    }
   ],
   "source": [
    "plt.figure(figsize=(8,6))\n",
    "sns.distplot(df[\"t2\"],kde=False,bins=25,label=\"t2\")\n",
    "plt.axvline(df[\"t2\"].median(),c=\"r\",label=\"Median of 't2'\")\n",
    "plt.legend();"
   ]
  },
  {
   "cell_type": "code",
   "execution_count": 41,
   "metadata": {},
   "outputs": [],
   "source": [
    "con.append(\"t2\")"
   ]
  },
  {
   "cell_type": "code",
   "execution_count": 42,
   "metadata": {},
   "outputs": [
    {
     "data": {
      "image/png": "[encoded data removed]",
      "text/plain": [
       "<Figure size 576x432 with 1 Axes>"
      ]
     },
     "metadata": {
      "needs_background": "light"
     },
     "output_type": "display_data"
    }
   ],
   "source": [
    "plt.figure(figsize=(8,6))\n",
    "sns.distplot(df[\"hum\"],kde=False,bins=25,label=\"hum\")\n",
    "plt.axvline(df[\"hum\"].median(),c=\"r\",label=\"Median of 'hum'\")\n",
    "plt.legend();"
   ]
  },
  {
   "cell_type": "code",
   "execution_count": 43,
   "metadata": {},
   "outputs": [],
   "source": [
    "con.append(\"hum\")"
   ]
  },
  {
   "cell_type": "code",
   "execution_count": 44,
   "metadata": {},
   "outputs": [
    {
     "data": {
      "image/png": "[encoded data removed]",
      "text/plain": [
       "<Figure size 576x432 with 1 Axes>"
      ]
     },
     "metadata": {
      "needs_background": "light"
     },
     "output_type": "display_data"
    }
   ],
   "source": [
    "plt.figure(figsize=(8,6))\n",
    "sns.distplot(df[\"wind_speed\"],kde=False,bins=25,label=\"wind_speed\")\n",
    "plt.axvline(df[\"wind_speed\"].median(),c=\"r\",label=\"Median of 'wind_speed'\")\n",
    "plt.legend();"
   ]
  },
  {
   "cell_type": "code",
   "execution_count": 45,
   "metadata": {},
   "outputs": [],
   "source": [
    "con.append(\"wind_speed\")"
   ]
  },
  {
   "cell_type": "code",
   "execution_count": 48,
   "metadata": {},
   "outputs": [
    {
     "name": "stdout",
     "output_type": "stream",
     "text": [
      "Clear                6150\n",
      "Scattered Clouds     4034\n",
      "Broken Clouds        3551\n",
      "Light Rain           2141\n",
      "Cloudy               1464\n",
      "Snowfall               60\n",
      "Rain Thunderstorm      14\n",
      "Name: weather_code, dtype: int64\n"
     ]
    },
    {
     "data": {
      "image/png": "[encoded data removed]",
      "text/plain": [
       "<Figure size 576x432 with 1 Axes>"
      ]
     },
     "metadata": {
      "needs_background": "light"
     },
     "output_type": "display_data"
    }
   ],
   "source": [
    "print(df[\"weather_code\"].value_counts())\n",
    "plt.figure(figsize=(8,6))\n",
    "sns.countplot(x=\"weather_code\",data=df);"
   ]
  },
  {
   "cell_type": "code",
   "execution_count": 50,
   "metadata": {},
   "outputs": [
    {
     "data": {
      "image/png": "[encoded data removed]",
      "text/plain": [
       "<Figure size 576x432 with 1 Axes>"
      ]
     },
     "metadata": {
      "needs_background": "light"
     },
     "output_type": "display_data"
    }
   ],
   "source": [
    "plt.figure(figsize=(8,6))\n",
    "sns.boxplot(x=\"weather_code\",y=\"cnt\",data=df)\n",
    "cat.append(\"weather_code\");"
   ]
  },
  {
   "cell_type": "code",
   "execution_count": 51,
   "metadata": {},
   "outputs": [
    {
     "name": "stdout",
     "output_type": "stream",
     "text": [
      "0    17030\n",
      "1      384\n",
      "Name: is_holiday, dtype: int64\n"
     ]
    },
    {
     "data": {
      "image/png": "[encoded data removed]",
      "text/plain": [
       "<Figure size 576x432 with 1 Axes>"
      ]
     },
     "metadata": {
      "needs_background": "light"
     },
     "output_type": "display_data"
    }
   ],
   "source": [
    "print(df[\"is_holiday\"].value_counts())\n",
    "plt.figure(figsize=(8,6))\n",
    "sns.countplot(x=\"is_holiday\",data=df);"
   ]
  },
  {
   "cell_type": "code",
   "execution_count": 53,
   "metadata": {},
   "outputs": [
    {
     "data": {
      "image/png": "[encoded data removed]",
      "text/plain": [
       "<Figure size 576x432 with 1 Axes>"
      ]
     },
     "metadata": {
      "needs_background": "light"
     },
     "output_type": "display_data"
    }
   ],
   "source": [
    "plt.figure(figsize=(8,6))\n",
    "df.groupby(\"is_holiday\").mean()[\"cnt\"].plot.bar()\n",
    "plt.title(\"Mean of holiday or not holiday\")\n",
    "cat.append(\"is_holiday\");"
   ]
  },
  {
   "cell_type": "code",
   "execution_count": 54,
   "metadata": {},
   "outputs": [
    {
     "name": "stdout",
     "output_type": "stream",
     "text": [
      "0    12444\n",
      "1     4970\n",
      "Name: is_weekend, dtype: int64\n"
     ]
    },
    {
     "data": {
      "image/png": "[encoded data removed]",
      "text/plain": [
       "<Figure size 576x432 with 1 Axes>"
      ]
     },
     "metadata": {
      "needs_background": "light"
     },
     "output_type": "display_data"
    }
   ],
   "source": [
    "print(df[\"is_weekend\"].value_counts())\n",
    "plt.figure(figsize=(8,6))\n",
    "sns.countplot(x=\"is_weekend\",data=df);"
   ]
  },
  {
   "cell_type": "code",
   "execution_count": 55,
   "metadata": {},
   "outputs": [
    {
     "data": {
      "image/png": "[encoded data removed]",
      "text/plain": [
       "<Figure size 576x432 with 1 Axes>"
      ]
     },
     "metadata": {
      "needs_background": "light"
     },
     "output_type": "display_data"
    }
   ],
   "source": [
    "plt.figure(figsize=(8,6))\n",
    "df.groupby(\"is_weekend\").mean()[\"cnt\"].plot.bar()\n",
    "plt.title(\"Mean of weekend or not weekend\")\n",
    "cat.append(\"is_weekend\");"
   ]
  },
  {
   "cell_type": "code",
   "execution_count": 57,
   "metadata": {},
   "outputs": [
    {
     "name": "stdout",
     "output_type": "stream",
     "text": [
      "Spring    4394\n",
      "Summer    4387\n",
      "Winter    4330\n",
      "Fall      4303\n",
      "Name: season, dtype: int64\n"
     ]
    },
    {
     "data": {
      "image/png": "[encoded data removed]",
      "text/plain": [
       "<Figure size 576x432 with 1 Axes>"
      ]
     },
     "metadata": {
      "needs_background": "light"
     },
     "output_type": "display_data"
    }
   ],
   "source": [
    "print(df[\"season\"].value_counts())\n",
    "plt.figure(figsize=(8,6))\n",
    "sns.countplot(x=\"season\",data=df);"
   ]
  },
  {
   "cell_type": "code",
   "execution_count": 58,
   "metadata": {},
   "outputs": [
    {
     "data": {
      "image/png": "[encoded data removed]",
      "text/plain": [
       "<Figure size 576x432 with 1 Axes>"
      ]
     },
     "metadata": {
      "needs_background": "light"
     },
     "output_type": "display_data"
    }
   ],
   "source": [
    "plt.figure(figsize=(8,6))\n",
    "df.groupby(\"season\").mean()[\"cnt\"].plot.bar()\n",
    "plt.title(\"Mean cnt of seasons\")\n",
    "cat.append(\"season\");"
   ]
  },
  {
   "cell_type": "code",
   "execution_count": 59,
   "metadata": {},
   "outputs": [
    {
     "name": "stdout",
     "output_type": "stream",
     "text": [
      "Continuous features are : ['t1', 't2', 'hum', 'wind_speed']\n",
      "Categorical features are : ['weather_code', 'is_holiday', 'is_weekend', 'season']\n"
     ]
    }
   ],
   "source": [
    "print(f\"Continuous features are : {con}\")\n",
    "print(f\"Categorical features are : {cat}\")"
   ]
  },
  {
   "cell_type": "code",
   "execution_count": 60,
   "metadata": {},
   "outputs": [],
   "source": [
    "df = pd.get_dummies(df,columns=cat,drop_first=True)"
   ]
  },
  {
   "cell_type": "code",
   "execution_count": 78,
   "metadata": {},
   "outputs": [],
   "source": [
    "from sklearn.model_selection import train_test_split\n",
    "from sklearn.metrics import mean_squared_error, mean_absolute_error, r2_score"
   ]
  },
  {
   "cell_type": "code",
   "execution_count": 73,
   "metadata": {},
   "outputs": [],
   "source": [
    "X = df.drop(\"cnt\",axis=1).values\n",
    "y = df[\"cnt\"].values"
   ]
  },
  {
   "cell_type": "code",
   "execution_count": 74,
   "metadata": {},
   "outputs": [],
   "source": [
    "X_train, X_test, y_train, y_test = train_test_split(X,y,test_size=0.2,random_state=0)"
   ]
  },
  {
   "cell_type": "code",
   "execution_count": 75,
   "metadata": {},
   "outputs": [],
   "source": [
    "from sklearn.linear_model import LinearRegression\n",
    "from sklearn.tree import DecisionTreeRegressor\n",
    "from sklearn.neighbors import KNeighborsRegressor"
   ]
  },
  {
   "cell_type": "code",
   "execution_count": 76,
   "metadata": {},
   "outputs": [],
   "source": [
    "from tensorflow.keras.models import Sequential\n",
    "from tensorflow.keras.layers import Dense, Dropout"
   ]
  },
  {
   "cell_type": "code",
   "execution_count": 84,
   "metadata": {},
   "outputs": [
    {
     "name": "stdout",
     "output_type": "stream",
     "text": [
      "RMSE of Linear Regression train set : 911.753716605046\n",
      "RMSE Squared Error of Linear Regression test set : 923.1411066964579\n"
     ]
    }
   ],
   "source": [
    "lin_reg = LinearRegression()\n",
    "lin_reg.fit(X_train,y_train)\n",
    "lr_tr_preds = lin_reg.predict(X_train)\n",
    "lr_ts_preds = lin_reg.predict(X_test)\n",
    "print(f\"RMSE of Linear Regression train set : {np.sqrt(mean_squared_error(y_train,lr_tr_preds))}\")\n",
    "print(f\"RMSE Squared Error of Linear Regression test set : {np.sqrt(mean_squared_error(y_test,lr_ts_preds))}\")"
   ]
  },
  {
   "cell_type": "code",
   "execution_count": 85,
   "metadata": {},
   "outputs": [
    {
     "name": "stdout",
     "output_type": "stream",
     "text": [
      "RMSE of Decision Tree Regression train set : 207.5449741722641\n",
      "RMSE of Decision Tree Regression test set : 1221.653349091421\n"
     ]
    }
   ],
   "source": [
    "dtr = DecisionTreeRegressor()\n",
    "dtr.fit(X_train,y_train)\n",
    "dtr_tr_preds = dtr.predict(X_train)\n",
    "dtr_ts_preds = dtr.predict(X_test)\n",
    "print(f\"RMSE of Decision Tree Regression train set : {np.sqrt(mean_squared_error(y_train,dtr_tr_preds))}\")\n",
    "print(f\"RMSE of Decision Tree Regression test set : {np.sqrt(mean_squared_error(y_test,dtr_ts_preds))}\")"
   ]
  },
  {
   "cell_type": "code",
   "execution_count": 86,
   "metadata": {},
   "outputs": [
    {
     "name": "stdout",
     "output_type": "stream",
     "text": [
      "RMSE of KNeighbors Regression train set : 804.0848169416712\n",
      "RMSE of KNeighbors Regression test set : 968.8799462759678\n"
     ]
    }
   ],
   "source": [
    "knn = KNeighborsRegressor(n_neighbors=5)\n",
    "knn.fit(X_train,y_train)\n",
    "knn_tr_preds = knn.predict(X_train)\n",
    "knn_ts_preds = knn.predict(X_test)\n",
    "print(f\"RMSE of KNeighbors Regression train set : {np.sqrt(mean_squared_error(y_train,knn_tr_preds))}\")\n",
    "print(f\"RMSE of KNeighbors Regression test set : {np.sqrt(mean_squared_error(y_test,knn_ts_preds))}\")"
   ]
  },
  {
   "cell_type": "code",
   "execution_count": 87,
   "metadata": {},
   "outputs": [
    {
     "data": {
      "text/plain": [
       "(13931, 15)"
      ]
     },
     "execution_count": 87,
     "metadata": {},
     "output_type": "execute_result"
    }
   ],
   "source": [
    "X_train.shape"
   ]
  },
  {
   "cell_type": "code",
   "execution_count": 99,
   "metadata": {},
   "outputs": [],
   "source": [
    "model = Sequential()\n",
    "\n",
    "model.add(Dense(units=32,activation=\"relu\"))\n",
    "model.add(Dropout(0.4))\n",
    "\n",
    "model.add(Dense(units=64,activation=\"relu\"))\n",
    "model.add(Dropout(0.4))\n",
    "\n",
    "model.add(Dense(units=128,activation=\"relu\"))\n",
    "model.add(Dropout(0.4))\n",
    "\n",
    "model.add(Dense(units=64,activation=\"relu\"))\n",
    "model.add(Dropout(0.4))\n",
    "\n",
    "model.add(Dense(units=16,activation=\"relu\"))\n",
    "model.add(Dropout(0.4))\n",
    "\n",
    "model.add(Dense(units=1))\n",
    "\n",
    "model.compile(loss=\"mse\",optimizer=\"adam\")"
   ]
  },
  {
   "cell_type": "code",
   "execution_count": 100,
   "metadata": {},
   "outputs": [
    {
     "name": "stdout",
     "output_type": "stream",
     "text": [
      "Train on 13931 samples, validate on 3483 samples\n",
      "Epoch 1/200\n",
      "13931/13931 [==============================] - 2s 165us/sample - loss: 1451905.2151 - val_loss: 1114362.7457\n",
      "Epoch 2/200\n",
      "13931/13931 [==============================] - 1s 67us/sample - loss: 1212960.1250 - val_loss: 1113171.8029\n",
      "Epoch 3/200\n",
      "13931/13931 [==============================] - 1s 72us/sample - loss: 1202532.3277 - val_loss: 1173119.2567\n",
      "Epoch 4/200\n",
      "13931/13931 [==============================] - 1s 56us/sample - loss: 1193233.5322 - val_loss: 1262621.6287\n",
      "Epoch 5/200\n",
      "13931/13931 [==============================] - 1s 57us/sample - loss: 1182041.2094 - val_loss: 1235572.3454\n",
      "Epoch 6/200\n",
      "13931/13931 [==============================] - 1s 56us/sample - loss: 1174588.9690 - val_loss: 1084221.0808\n",
      "Epoch 7/200\n",
      "13931/13931 [==============================] - 1s 59us/sample - loss: 1163500.7941 - val_loss: 1175873.3305\n",
      "Epoch 8/200\n",
      "13931/13931 [==============================] - 1s 71us/sample - loss: 1172638.6163 - val_loss: 1298563.4580\n",
      "Epoch 9/200\n",
      "13931/13931 [==============================] - 1s 60us/sample - loss: 1140426.1357 - val_loss: 1106647.8212\n",
      "Epoch 10/200\n",
      "13931/13931 [==============================] - 1s 56us/sample - loss: 1127898.7129 - val_loss: 1234458.1824\n",
      "Epoch 11/200\n",
      "13931/13931 [==============================] - 1s 58us/sample - loss: 1122664.1492 - val_loss: 1125613.5217\n",
      "Epoch 12/200\n",
      "13931/13931 [==============================] - 1s 57us/sample - loss: 1116231.9720 - val_loss: 1149284.9086\n",
      "Epoch 13/200\n",
      "13931/13931 [==============================] - 1s 56us/sample - loss: 1095023.3493 - val_loss: 1230171.7882\n",
      "Epoch 14/200\n",
      "13931/13931 [==============================] - 1s 60us/sample - loss: 1112767.6106 - val_loss: 1077688.7032\n",
      "Epoch 15/200\n",
      "13931/13931 [==============================] - 1s 59us/sample - loss: 1090635.1031 - val_loss: 1296000.7683\n",
      "Epoch 16/200\n",
      "13931/13931 [==============================] - 1s 70us/sample - loss: 1091579.9557 - val_loss: 1220630.1128\n",
      "Epoch 17/200\n",
      "13931/13931 [==============================] - 1s 71us/sample - loss: 1102133.2846 - val_loss: 1133541.1967\n",
      "Epoch 18/200\n",
      "13931/13931 [==============================] - 1s 63us/sample - loss: 1089234.1299 - val_loss: 1077189.6432\n",
      "Epoch 19/200\n",
      "13931/13931 [==============================] - 1s 56us/sample - loss: 1073578.6834 - val_loss: 1076219.0221\n",
      "Epoch 20/200\n",
      "13931/13931 [==============================] - 1s 70us/sample - loss: 1102433.8511 - val_loss: 1045059.0329\n",
      "Epoch 21/200\n",
      "13931/13931 [==============================] - 1s 70us/sample - loss: 1082176.0073 - val_loss: 1066024.0467\n",
      "Epoch 22/200\n",
      "13931/13931 [==============================] - 1s 72us/sample - loss: 1071179.3890 - val_loss: 1038959.0924\n",
      "Epoch 23/200\n",
      "13931/13931 [==============================] - 1s 69us/sample - loss: 1094710.1197 - val_loss: 1118703.4621\n",
      "Epoch 24/200\n",
      "13931/13931 [==============================] - 1s 63us/sample - loss: 1057072.0480 - val_loss: 1068962.5204\n",
      "Epoch 25/200\n",
      "13931/13931 [==============================] - 1s 61us/sample - loss: 1069792.6390 - val_loss: 1100800.8953\n",
      "Epoch 26/200\n",
      "13931/13931 [==============================] - 1s 60us/sample - loss: 1077095.0685 - val_loss: 1063556.7417\n",
      "Epoch 27/200\n",
      "13931/13931 [==============================] - 1s 65us/sample - loss: 1059804.1859 - val_loss: 1029243.0622\n",
      "Epoch 28/200\n",
      "13931/13931 [==============================] - 1s 58us/sample - loss: 1068184.1234 - val_loss: 1061339.3617\n",
      "Epoch 29/200\n",
      "13931/13931 [==============================] - 1s 57us/sample - loss: 1074439.0085 - val_loss: 932052.2890\n",
      "Epoch 30/200\n",
      "13931/13931 [==============================] - 1s 59us/sample - loss: 1074757.6248 - val_loss: 993336.3192\n",
      "Epoch 31/200\n",
      "13931/13931 [==============================] - 1s 57us/sample - loss: 1065682.1650 - val_loss: 966082.9047\n",
      "Epoch 32/200\n",
      "13931/13931 [==============================] - 1s 58us/sample - loss: 1065089.3088 - val_loss: 1018660.3804\n",
      "Epoch 33/200\n",
      "13931/13931 [==============================] - 1s 58us/sample - loss: 1056603.2180 - val_loss: 995344.4736\n",
      "Epoch 34/200\n",
      "13931/13931 [==============================] - 1s 58us/sample - loss: 1056789.9022 - val_loss: 1103852.9569\n",
      "Epoch 35/200\n",
      "13931/13931 [==============================] - 1s 58us/sample - loss: 1069482.9539 - val_loss: 958143.9260\n",
      "Epoch 36/200\n",
      "13931/13931 [==============================] - 1s 60us/sample - loss: 1065776.3185 - val_loss: 1031103.4674\n",
      "Epoch 37/200\n",
      "13931/13931 [==============================] - 1s 59us/sample - loss: 1061714.9316 - val_loss: 988463.0029\n",
      "Epoch 38/200\n",
      "13931/13931 [==============================] - 1s 59us/sample - loss: 1071056.9275 - val_loss: 982222.1903\n",
      "Epoch 39/200\n",
      "13931/13931 [==============================] - 1s 58us/sample - loss: 1047445.5214 - val_loss: 951580.0221\n",
      "Epoch 40/200\n",
      "13931/13931 [==============================] - 1s 63us/sample - loss: 1071238.9330 - val_loss: 960982.0529\n",
      "Epoch 41/200\n",
      "13931/13931 [==============================] - 1s 64us/sample - loss: 1072479.9804 - val_loss: 1027915.4423\n",
      "Epoch 42/200\n",
      "13931/13931 [==============================] - 1s 65us/sample - loss: 1068316.6196 - val_loss: 1063313.7945\n",
      "Epoch 43/200\n",
      "13931/13931 [==============================] - 1s 64us/sample - loss: 1070671.9480 - val_loss: 1002868.7472\n",
      "Epoch 44/200\n",
      "13931/13931 [==============================] - 1s 66us/sample - loss: 1050490.1899 - val_loss: 999515.2726\n",
      "Epoch 45/200\n",
      "13931/13931 [==============================] - 1s 71us/sample - loss: 1055320.8298 - val_loss: 1036658.9819\n",
      "Epoch 46/200\n",
      "13931/13931 [==============================] - 1s 70us/sample - loss: 1069531.0449 - val_loss: 1015697.7722\n",
      "Epoch 47/200\n",
      "13931/13931 [==============================] - 1s 67us/sample - loss: 1049714.0368 - val_loss: 1017469.7312\n",
      "Epoch 48/200\n",
      "13931/13931 [==============================] - 1s 67us/sample - loss: 1046295.7706 - val_loss: 911929.1732\n",
      "Epoch 49/200\n",
      "13931/13931 [==============================] - 1s 64us/sample - loss: 1066767.2432 - val_loss: 950095.3985\n",
      "Epoch 50/200\n",
      "13931/13931 [==============================] - 1s 65us/sample - loss: 1063792.8247 - val_loss: 1007625.9187\n",
      "Epoch 51/200\n",
      "13931/13931 [==============================] - 1s 65us/sample - loss: 1055465.3963 - val_loss: 1001825.6079\n",
      "Epoch 52/200\n",
      "13931/13931 [==============================] - 1s 68us/sample - loss: 1070072.8626 - val_loss: 1036662.2857\n",
      "Epoch 53/200\n",
      "13931/13931 [==============================] - 1s 65us/sample - loss: 1062369.3390 - val_loss: 992499.7293\n",
      "Epoch 54/200\n",
      "13931/13931 [==============================] - 1s 64us/sample - loss: 1047108.1567 - val_loss: 995939.2287\n",
      "Epoch 55/200\n",
      "13931/13931 [==============================] - 1s 65us/sample - loss: 1052195.1871 - val_loss: 985680.3525\n",
      "Epoch 56/200\n",
      "13931/13931 [==============================] - 1s 64us/sample - loss: 1048334.0438 - val_loss: 953973.3171\n",
      "Epoch 57/200\n",
      "13931/13931 [==============================] - 1s 64us/sample - loss: 1070551.3185 - val_loss: 1038065.0154\n",
      "Epoch 58/200\n",
      "13931/13931 [==============================] - 1s 66us/sample - loss: 1046965.3578 - val_loss: 1038003.7991\n",
      "Epoch 59/200\n",
      "13931/13931 [==============================] - 1s 66us/sample - loss: 1052547.4605 - val_loss: 1029815.7070\n",
      "Epoch 60/200\n",
      "13931/13931 [==============================] - 1s 69us/sample - loss: 1048264.2905 - val_loss: 985846.0614\n",
      "Epoch 61/200\n",
      "13931/13931 [==============================] - 1s 70us/sample - loss: 1052951.6284 - val_loss: 1066388.3751\n",
      "Epoch 62/200\n",
      "13931/13931 [==============================] - 1s 70us/sample - loss: 1048025.8298 - val_loss: 974419.8692\n",
      "Epoch 63/200\n",
      "13931/13931 [==============================] - 1s 76us/sample - loss: 1042770.2151 - val_loss: 983275.9088\n",
      "Epoch 64/200\n",
      "13931/13931 [==============================] - 1s 69us/sample - loss: 1062977.0780 - val_loss: 934734.1120\n",
      "Epoch 65/200\n",
      "13931/13931 [==============================] - 1s 68us/sample - loss: 1044249.8667 - val_loss: 994385.2958\n",
      "Epoch 66/200\n",
      "13931/13931 [==============================] - 1s 67us/sample - loss: 1034800.6976 - val_loss: 1000084.1104\n",
      "Epoch 67/200\n",
      "13931/13931 [==============================] - 1s 71us/sample - loss: 1039283.7801 - val_loss: 959266.4164\n",
      "Epoch 68/200\n"
     ]
    },
    {
     "name": "stdout",
     "output_type": "stream",
     "text": [
      "13931/13931 [==============================] - 1s 72us/sample - loss: 1052114.0335 - val_loss: 962880.1369\n",
      "Epoch 69/200\n",
      "13931/13931 [==============================] - 1s 68us/sample - loss: 1022390.6311 - val_loss: 965820.0525\n",
      "Epoch 70/200\n",
      "13931/13931 [==============================] - 1s 66us/sample - loss: 1043308.7710 - val_loss: 985335.5620\n",
      "Epoch 71/200\n",
      "13931/13931 [==============================] - 1s 66us/sample - loss: 1047402.1893 - val_loss: 992665.0298\n",
      "Epoch 72/200\n",
      "13931/13931 [==============================] - 1s 73us/sample - loss: 1045238.8924 - val_loss: 988057.7038\n",
      "Epoch 73/200\n",
      "13931/13931 [==============================] - 1s 65us/sample - loss: 1055659.1672 - val_loss: 907869.2553\n",
      "Epoch 74/200\n",
      "13931/13931 [==============================] - 1s 62us/sample - loss: 1048041.7073 - val_loss: 914153.9913\n",
      "Epoch 75/200\n",
      "13931/13931 [==============================] - 1s 67us/sample - loss: 1039005.6571 - val_loss: 989071.6784\n",
      "Epoch 76/200\n",
      "13931/13931 [==============================] - 1s 66us/sample - loss: 1039688.5956 - val_loss: 935777.9630\n",
      "Epoch 77/200\n",
      "13931/13931 [==============================] - 1s 60us/sample - loss: 1046124.9641 - val_loss: 1000814.8542\n",
      "Epoch 78/200\n",
      "13931/13931 [==============================] - 1s 63us/sample - loss: 1046520.8771 - val_loss: 980956.1660\n",
      "Epoch 79/200\n",
      "13931/13931 [==============================] - 1s 72us/sample - loss: 1033812.7367 - val_loss: 987289.9491\n",
      "Epoch 80/200\n",
      "13931/13931 [==============================] - 1s 88us/sample - loss: 1055543.9840 - val_loss: 917182.1237\n",
      "Epoch 81/200\n",
      "13931/13931 [==============================] - 1s 65us/sample - loss: 1040053.7879 - val_loss: 925671.0366\n",
      "Epoch 82/200\n",
      "13931/13931 [==============================] - 1s 60us/sample - loss: 1041095.8265 - val_loss: 902144.1732\n",
      "Epoch 83/200\n",
      "13931/13931 [==============================] - 1s 62us/sample - loss: 1044850.8208 - val_loss: 1023625.9040\n",
      "Epoch 84/200\n",
      "13931/13931 [==============================] - 1s 63us/sample - loss: 1039827.2912 - val_loss: 984332.9416\n",
      "Epoch 85/200\n",
      "13931/13931 [==============================] - 1s 67us/sample - loss: 1027759.4985 - val_loss: 966987.0341\n",
      "Epoch 86/200\n",
      "13931/13931 [==============================] - 1s 66us/sample - loss: 1013911.6216 - val_loss: 965342.2501\n",
      "Epoch 87/200\n",
      "13931/13931 [==============================] - 1s 67us/sample - loss: 1053765.7212 - val_loss: 990035.0075\n",
      "Epoch 88/200\n",
      "13931/13931 [==============================] - 1s 65us/sample - loss: 1041733.5207 - val_loss: 935002.9279\n",
      "Epoch 89/200\n",
      "13931/13931 [==============================] - 1s 81us/sample - loss: 1044028.4831 - val_loss: 952929.2106\n",
      "Epoch 90/200\n",
      "13931/13931 [==============================] - 1s 76us/sample - loss: 1033246.9463 - val_loss: 928047.5498\n",
      "Epoch 91/200\n",
      "13931/13931 [==============================] - 1s 82us/sample - loss: 1048536.9850 - val_loss: 1092237.8451\n",
      "Epoch 92/200\n",
      "13931/13931 [==============================] - 1s 77us/sample - loss: 1047985.8680 - val_loss: 890678.5141\n",
      "Epoch 93/200\n",
      "13931/13931 [==============================] - 1s 93us/sample - loss: 1042985.5612 - val_loss: 1032525.1338\n",
      "Epoch 94/200\n",
      "13931/13931 [==============================] - 1s 86us/sample - loss: 1034931.2608 - val_loss: 953229.5759\n",
      "Epoch 95/200\n",
      "13931/13931 [==============================] - 1s 99us/sample - loss: 1039702.9276 - val_loss: 929726.5678\n",
      "Epoch 96/200\n",
      "13931/13931 [==============================] - 1s 91us/sample - loss: 1023350.9015 - val_loss: 979094.6979\n",
      "Epoch 97/200\n",
      "13931/13931 [==============================] - 1s 69us/sample - loss: 1050568.6494 - val_loss: 939440.0205\n",
      "Epoch 98/200\n",
      "13931/13931 [==============================] - 1s 68us/sample - loss: 1033357.5392 - val_loss: 952964.4822\n",
      "Epoch 99/200\n",
      "13931/13931 [==============================] - 1s 60us/sample - loss: 1032597.4749 - val_loss: 907267.4828\n",
      "Epoch 100/200\n",
      "13931/13931 [==============================] - 1s 59us/sample - loss: 1033241.2757 - val_loss: 899492.5620\n",
      "Epoch 101/200\n",
      "13931/13931 [==============================] - 1s 61us/sample - loss: 1034000.7289 - val_loss: 933316.7692\n",
      "Epoch 102/200\n",
      "13931/13931 [==============================] - 1s 59us/sample - loss: 1032784.5458 - val_loss: 1005570.9376\n",
      "Epoch 103/200\n",
      "13931/13931 [==============================] - 1s 59us/sample - loss: 1037414.0458 - val_loss: 1019041.9144\n",
      "Epoch 104/200\n",
      "13931/13931 [==============================] - 1s 64us/sample - loss: 1024424.7479 - val_loss: 977603.5674\n",
      "Epoch 105/200\n",
      "13931/13931 [==============================] - 1s 57us/sample - loss: 1041268.5253 - val_loss: 935841.0877\n",
      "Epoch 106/200\n",
      "13931/13931 [==============================] - 1s 60us/sample - loss: 1049783.4753 - val_loss: 959364.5299\n",
      "Epoch 107/200\n",
      "13931/13931 [==============================] - 1s 61us/sample - loss: 1035002.9386 - val_loss: 962161.9775\n",
      "Epoch 108/200\n",
      "13931/13931 [==============================] - 1s 58us/sample - loss: 1042080.4590 - val_loss: 977759.0380\n",
      "Epoch 109/200\n",
      "13931/13931 [==============================] - 1s 60us/sample - loss: 1047838.2899 - val_loss: 933007.3552\n",
      "Epoch 110/200\n",
      "13931/13931 [==============================] - 1s 61us/sample - loss: 1032297.9631 - val_loss: 940483.2236\n",
      "Epoch 111/200\n",
      "13931/13931 [==============================] - 1s 59us/sample - loss: 1042462.7098 - val_loss: 974491.6551\n",
      "Epoch 112/200\n",
      "13931/13931 [==============================] - 1s 66us/sample - loss: 1031616.1140 - val_loss: 1028394.9090\n",
      "Epoch 113/200\n",
      "13931/13931 [==============================] - 1s 85us/sample - loss: 1044111.9196 - val_loss: 969310.3136\n",
      "Epoch 114/200\n",
      "13931/13931 [==============================] - 1s 68us/sample - loss: 1043650.9870 - val_loss: 949066.2555\n",
      "Epoch 115/200\n",
      "13931/13931 [==============================] - 1s 65us/sample - loss: 1028978.3234 - val_loss: 991652.2040\n",
      "Epoch 116/200\n",
      "13931/13931 [==============================] - 1s 63us/sample - loss: 1036882.4918 - val_loss: 925617.2717\n",
      "Epoch 117/200\n",
      "13931/13931 [==============================] - 1s 63us/sample - loss: 1047093.4408 - val_loss: 990336.8809\n",
      "Epoch 118/200\n",
      "13931/13931 [==============================] - 1s 62us/sample - loss: 1030017.0642 - val_loss: 1052514.3496\n",
      "Epoch 119/200\n",
      "13931/13931 [==============================] - 1s 66us/sample - loss: 1044808.7022 - val_loss: 921918.9684\n",
      "Epoch 120/200\n",
      "13931/13931 [==============================] - 1s 63us/sample - loss: 1034898.7064 - val_loss: 1070543.6811\n",
      "Epoch 121/200\n",
      "13931/13931 [==============================] - 1s 61us/sample - loss: 1043667.4582 - val_loss: 1072115.2944\n",
      "Epoch 122/200\n",
      "13931/13931 [==============================] - 1s 62us/sample - loss: 1028814.7496 - val_loss: 978636.0931\n",
      "Epoch 123/200\n",
      "13931/13931 [==============================] - 1s 64us/sample - loss: 1027890.1935 - val_loss: 936078.2028\n",
      "Epoch 124/200\n",
      "13931/13931 [==============================] - 1s 62us/sample - loss: 1026934.3346 - val_loss: 1019248.8261\n",
      "Epoch 125/200\n",
      "13931/13931 [==============================] - 1s 64us/sample - loss: 1032611.1236 - val_loss: 983089.1480\n",
      "Epoch 126/200\n",
      "13931/13931 [==============================] - 1s 64us/sample - loss: 1026439.3677 - val_loss: 968935.8892\n",
      "Epoch 127/200\n",
      "13931/13931 [==============================] - 1s 62us/sample - loss: 1011580.8198 - val_loss: 972952.6409\n",
      "Epoch 128/200\n",
      "13931/13931 [==============================] - 1s 65us/sample - loss: 1045991.4226 - val_loss: 971739.1920\n",
      "Epoch 129/200\n",
      "13931/13931 [==============================] - 1s 63us/sample - loss: 1046435.8746 - val_loss: 916078.2672\n",
      "Epoch 130/200\n",
      "13931/13931 [==============================] - 1s 65us/sample - loss: 1028858.4991 - val_loss: 942162.3575\n",
      "Epoch 131/200\n",
      "13931/13931 [==============================] - 1s 74us/sample - loss: 1021593.3603 - val_loss: 973257.6829\n",
      "Epoch 132/200\n",
      "13931/13931 [==============================] - 1s 67us/sample - loss: 1020658.2034 - val_loss: 909827.0786\n",
      "Epoch 133/200\n",
      "13931/13931 [==============================] - 1s 64us/sample - loss: 1044117.2253 - val_loss: 924506.1156\n",
      "Epoch 134/200\n",
      "13931/13931 [==============================] - 1s 75us/sample - loss: 1035158.4354 - val_loss: 940525.6575\n",
      "Epoch 135/200\n",
      "13931/13931 [==============================] - 1s 76us/sample - loss: 1038876.2080 - val_loss: 959047.1832\n"
     ]
    },
    {
     "name": "stdout",
     "output_type": "stream",
     "text": [
      "Epoch 136/200\n",
      "13931/13931 [==============================] - 1s 61us/sample - loss: 1033173.5210 - val_loss: 954839.4022\n",
      "Epoch 137/200\n",
      "13931/13931 [==============================] - 1s 62us/sample - loss: 1013627.3963 - val_loss: 955043.9571\n",
      "Epoch 138/200\n",
      "13931/13931 [==============================] - 1s 61us/sample - loss: 1020452.3622 - val_loss: 927119.0715\n",
      "Epoch 139/200\n",
      "13931/13931 [==============================] - 1s 64us/sample - loss: 1016141.3105 - val_loss: 982536.3644\n",
      "Epoch 140/200\n",
      "13931/13931 [==============================] - 1s 68us/sample - loss: 1019237.3807 - val_loss: 920031.0745\n",
      "Epoch 141/200\n",
      "13931/13931 [==============================] - 1s 65us/sample - loss: 1029047.0861 - val_loss: 1023795.4984\n",
      "Epoch 142/200\n",
      "13931/13931 [==============================] - 1s 66us/sample - loss: 1035409.6533 - val_loss: 986400.7851\n",
      "Epoch 143/200\n",
      "13931/13931 [==============================] - 1s 65us/sample - loss: 1031541.8924 - val_loss: 926894.3865\n",
      "Epoch 144/200\n",
      "13931/13931 [==============================] - 1s 67us/sample - loss: 1029822.7269 - val_loss: 931995.7586\n",
      "Epoch 145/200\n",
      "13931/13931 [==============================] - 1s 69us/sample - loss: 1022336.7056 - val_loss: 945767.5175\n",
      "Epoch 146/200\n",
      "13931/13931 [==============================] - 1s 66us/sample - loss: 1016160.9155 - val_loss: 983460.4164\n",
      "Epoch 147/200\n",
      "13931/13931 [==============================] - 1s 76us/sample - loss: 1029556.8473 - val_loss: 930388.6553\n",
      "Epoch 148/200\n",
      "13931/13931 [==============================] - 1s 88us/sample - loss: 1025021.0129 - val_loss: 1015214.7082\n",
      "Epoch 149/200\n",
      "13931/13931 [==============================] - 1s 68us/sample - loss: 1019467.9502 - val_loss: 944195.9010\n",
      "Epoch 150/200\n",
      "13931/13931 [==============================] - 1s 71us/sample - loss: 1031335.9296 - val_loss: 980906.5031\n",
      "Epoch 151/200\n",
      "13931/13931 [==============================] - 1s 79us/sample - loss: 1027178.2915 - val_loss: 961841.4228\n",
      "Epoch 152/200\n",
      "13931/13931 [==============================] - 1s 78us/sample - loss: 1014656.5935 - val_loss: 939444.2278\n",
      "Epoch 153/200\n",
      "13931/13931 [==============================] - 1s 64us/sample - loss: 1028884.3989 - val_loss: 963963.4078\n",
      "Epoch 154/200\n",
      "13931/13931 [==============================] - 1s 62us/sample - loss: 1031921.1806 - val_loss: 981660.3792\n",
      "Epoch 155/200\n",
      "13931/13931 [==============================] - 1s 62us/sample - loss: 1023462.3409 - val_loss: 978775.5361\n",
      "Epoch 156/200\n",
      "13931/13931 [==============================] - 1s 60us/sample - loss: 1022077.9033 - val_loss: 997518.5379\n",
      "Epoch 157/200\n",
      "13931/13931 [==============================] - 1s 61us/sample - loss: 1037267.3711 - val_loss: 954782.6401\n",
      "Epoch 158/200\n",
      "13931/13931 [==============================] - 1s 61us/sample - loss: 1015735.8448 - val_loss: 996911.6356\n",
      "Epoch 159/200\n",
      "13931/13931 [==============================] - 1s 74us/sample - loss: 1037928.4466 - val_loss: 997796.0082\n",
      "Epoch 160/200\n",
      "13931/13931 [==============================] - 1s 77us/sample - loss: 1020360.8126 - val_loss: 980965.6064\n",
      "Epoch 161/200\n",
      "13931/13931 [==============================] - 1s 80us/sample - loss: 1031328.0650 - val_loss: 945348.7449\n",
      "Epoch 162/200\n",
      "13931/13931 [==============================] - 1s 67us/sample - loss: 1015956.6563 - val_loss: 961286.2104\n",
      "Epoch 163/200\n",
      "13931/13931 [==============================] - 1s 69us/sample - loss: 1018546.9586 - val_loss: 939133.5845\n",
      "Epoch 164/200\n",
      "13931/13931 [==============================] - 1s 85us/sample - loss: 1033839.9520 - val_loss: 887078.2192\n",
      "Epoch 165/200\n",
      "13931/13931 [==============================] - 1s 70us/sample - loss: 1029166.5396 - val_loss: 1019056.7094\n",
      "Epoch 166/200\n",
      "13931/13931 [==============================] - 1s 64us/sample - loss: 1029805.0210 - val_loss: 986388.1530\n",
      "Epoch 167/200\n",
      "13931/13931 [==============================] - 1s 68us/sample - loss: 1028413.2331 - val_loss: 1045723.4583\n",
      "Epoch 168/200\n",
      "13931/13931 [==============================] - 1s 68us/sample - loss: 1020830.0703 - val_loss: 968938.9101\n",
      "Epoch 169/200\n",
      "13931/13931 [==============================] - 1s 71us/sample - loss: 1022253.0439 - val_loss: 930022.1384\n",
      "Epoch 170/200\n",
      "13931/13931 [==============================] - 1s 66us/sample - loss: 1021983.5363 - val_loss: 927375.6577\n",
      "Epoch 171/200\n",
      "13931/13931 [==============================] - 1s 65us/sample - loss: 1030946.4807 - val_loss: 998566.9169\n",
      "Epoch 172/200\n",
      "13931/13931 [==============================] - 1s 66us/sample - loss: 1035565.6467 - val_loss: 995628.1454\n",
      "Epoch 173/200\n",
      "13931/13931 [==============================] - 1s 69us/sample - loss: 1018999.0099 - val_loss: 1047885.8236\n",
      "Epoch 174/200\n",
      "13931/13931 [==============================] - 1s 68us/sample - loss: 1017825.5581 - val_loss: 995178.7210\n",
      "Epoch 175/200\n",
      "13931/13931 [==============================] - 1s 67us/sample - loss: 1022933.1594 - val_loss: 936979.3960\n",
      "Epoch 176/200\n",
      "13931/13931 [==============================] - 1s 66us/sample - loss: 1025648.1919 - val_loss: 1020681.1239\n",
      "Epoch 177/200\n",
      "13931/13931 [==============================] - 1s 65us/sample - loss: 1011078.7159 - val_loss: 986516.9698\n",
      "Epoch 178/200\n",
      "13931/13931 [==============================] - 1s 64us/sample - loss: 1028916.2192 - val_loss: 909615.6356\n",
      "Epoch 179/200\n",
      "13931/13931 [==============================] - 1s 63us/sample - loss: 1023912.4082 - val_loss: 978986.6900\n",
      "Epoch 180/200\n",
      "13931/13931 [==============================] - 1s 63us/sample - loss: 1042186.8812 - val_loss: 966006.4956\n",
      "Epoch 181/200\n",
      "13931/13931 [==============================] - 1s 75us/sample - loss: 1037925.9513 - val_loss: 955631.2081\n",
      "Epoch 182/200\n",
      "13931/13931 [==============================] - 1s 67us/sample - loss: 1023391.1299 - val_loss: 964119.7032\n",
      "Epoch 183/200\n",
      "13931/13931 [==============================] - 1s 67us/sample - loss: 1025350.4462 - val_loss: 937316.8511\n",
      "Epoch 184/200\n",
      "13931/13931 [==============================] - 1s 69us/sample - loss: 1025336.4987 - val_loss: 907368.0569\n",
      "Epoch 185/200\n",
      "13931/13931 [==============================] - 1s 75us/sample - loss: 1021647.1115 - val_loss: 1024453.6747\n",
      "Epoch 186/200\n",
      "13931/13931 [==============================] - 1s 69us/sample - loss: 1050069.6862 - val_loss: 971502.0286\n",
      "Epoch 187/200\n",
      "13931/13931 [==============================] - 1s 71us/sample - loss: 1027848.9624 - val_loss: 973312.8908\n",
      "Epoch 188/200\n",
      "13931/13931 [==============================] - 1s 70us/sample - loss: 1033560.2369 - val_loss: 927026.6306\n",
      "Epoch 189/200\n",
      "13931/13931 [==============================] - 1s 67us/sample - loss: 1009363.9134 - val_loss: 943302.8553\n",
      "Epoch 190/200\n",
      "13931/13931 [==============================] - 1s 68us/sample - loss: 1015805.6823 - val_loss: 919392.3530\n",
      "Epoch 191/200\n",
      "13931/13931 [==============================] - 1s 68us/sample - loss: 1017901.6846 - val_loss: 991768.8080\n",
      "Epoch 192/200\n",
      "13931/13931 [==============================] - 1s 66us/sample - loss: 1024586.8013 - val_loss: 984907.1082\n",
      "Epoch 193/200\n",
      "13931/13931 [==============================] - 1s 65us/sample - loss: 1034433.0921 - val_loss: 924458.5654\n",
      "Epoch 194/200\n",
      "13931/13931 [==============================] - 1s 64us/sample - loss: 1023331.1668 - val_loss: 976045.1604\n",
      "Epoch 195/200\n",
      "13931/13931 [==============================] - 1s 65us/sample - loss: 1033925.9417 - val_loss: 1014571.5826\n",
      "Epoch 196/200\n",
      "13931/13931 [==============================] - 1s 62us/sample - loss: 1035746.5279 - val_loss: 957976.1975\n",
      "Epoch 197/200\n",
      "13931/13931 [==============================] - 1s 66us/sample - loss: 1015534.3465 - val_loss: 957278.1186\n",
      "Epoch 198/200\n",
      "13931/13931 [==============================] - 1s 75us/sample - loss: 1012227.5005 - val_loss: 977923.3168\n",
      "Epoch 199/200\n",
      "13931/13931 [==============================] - 1s 72us/sample - loss: 1018512.2987 - val_loss: 934947.8019\n",
      "Epoch 200/200\n",
      "13931/13931 [==============================] - 1s 68us/sample - loss: 1023072.1066 - val_loss: 986978.6173\n"
     ]
    },
    {
     "data": {
      "text/plain": [
       "<tensorflow.python.keras.callbacks.History at 0x2a0dbab2748>"
      ]
     },
     "execution_count": 100,
     "metadata": {},
     "output_type": "execute_result"
    }
   ],
   "source": [
    "model.fit(X_train,y_train,validation_data=(X_test,y_test),\n",
    "           epochs=200)"
   ]
  },
  {
   "cell_type": "code",
   "execution_count": 101,
   "metadata": {},
   "outputs": [
    {
     "name": "stdout",
     "output_type": "stream",
     "text": [
      "Model: \"sequential_6\"\n",
      "_________________________________________________________________\n",
      "Layer (type)                 Output Shape              Param #   \n",
      "=================================================================\n",
      "dense_36 (Dense)             multiple                  512       \n",
      "_________________________________________________________________\n",
      "dropout_30 (Dropout)         multiple                  0         \n",
      "_________________________________________________________________\n",
      "dense_37 (Dense)             multiple                  2112      \n",
      "_________________________________________________________________\n",
      "dropout_31 (Dropout)         multiple                  0         \n",
      "_________________________________________________________________\n",
      "dense_38 (Dense)             multiple                  8320      \n",
      "_________________________________________________________________\n",
      "dropout_32 (Dropout)         multiple                  0         \n",
      "_________________________________________________________________\n",
      "dense_39 (Dense)             multiple                  8256      \n",
      "_________________________________________________________________\n",
      "dropout_33 (Dropout)         multiple                  0         \n",
      "_________________________________________________________________\n",
      "dense_40 (Dense)             multiple                  1040      \n",
      "_________________________________________________________________\n",
      "dropout_34 (Dropout)         multiple                  0         \n",
      "_________________________________________________________________\n",
      "dense_41 (Dense)             multiple                  17        \n",
      "=================================================================\n",
      "Total params: 20,257\n",
      "Trainable params: 20,257\n",
      "Non-trainable params: 0\n",
      "_________________________________________________________________\n"
     ]
    }
   ],
   "source": [
    "model.summary()"
   ]
  },
  {
   "cell_type": "code",
   "execution_count": 104,
   "metadata": {},
   "outputs": [
    {
     "data": {
      "text/html": [
       "<div>\n",
       "<style scoped>\n",
       "    .dataframe tbody tr th:only-of-type {\n",
       "        vertical-align: middle;\n",
       "    }\n",
       "\n",
       "    .dataframe tbody tr th {\n",
       "        vertical-align: top;\n",
       "    }\n",
       "\n",
       "    .dataframe thead th {\n",
       "        text-align: right;\n",
       "    }\n",
       "</style>\n",
       "<table border=\"1\" class=\"dataframe\">\n",
       "  <thead>\n",
       "    <tr style=\"text-align: right;\">\n",
       "      <th></th>\n",
       "      <th>loss</th>\n",
       "      <th>val_loss</th>\n",
       "    </tr>\n",
       "  </thead>\n",
       "  <tbody>\n",
       "    <tr>\n",
       "      <th>0</th>\n",
       "      <td>1.451905e+06</td>\n",
       "      <td>1.114363e+06</td>\n",
       "    </tr>\n",
       "    <tr>\n",
       "      <th>1</th>\n",
       "      <td>1.212960e+06</td>\n",
       "      <td>1.113172e+06</td>\n",
       "    </tr>\n",
       "    <tr>\n",
       "      <th>2</th>\n",
       "      <td>1.202532e+06</td>\n",
       "      <td>1.173119e+06</td>\n",
       "    </tr>\n",
       "    <tr>\n",
       "      <th>3</th>\n",
       "      <td>1.193234e+06</td>\n",
       "      <td>1.262622e+06</td>\n",
       "    </tr>\n",
       "    <tr>\n",
       "      <th>4</th>\n",
       "      <td>1.182041e+06</td>\n",
       "      <td>1.235572e+06</td>\n",
       "    </tr>\n",
       "  </tbody>\n",
       "</table>\n",
       "</div>"
      ],
      "text/plain": [
       "           loss      val_loss\n",
       "0  1.451905e+06  1.114363e+06\n",
       "1  1.212960e+06  1.113172e+06\n",
       "2  1.202532e+06  1.173119e+06\n",
       "3  1.193234e+06  1.262622e+06\n",
       "4  1.182041e+06  1.235572e+06"
      ]
     },
     "execution_count": 104,
     "metadata": {},
     "output_type": "execute_result"
    }
   ],
   "source": [
    "losses = pd.DataFrame(model.history.history)\n",
    "losses.head()"
   ]
  },
  {
   "cell_type": "code",
   "execution_count": 106,
   "metadata": {},
   "outputs": [
    {
     "data": {
      "text/html": [
       "<div>\n",
       "<style scoped>\n",
       "    .dataframe tbody tr th:only-of-type {\n",
       "        vertical-align: middle;\n",
       "    }\n",
       "\n",
       "    .dataframe tbody tr th {\n",
       "        vertical-align: top;\n",
       "    }\n",
       "\n",
       "    .dataframe thead th {\n",
       "        text-align: right;\n",
       "    }\n",
       "</style>\n",
       "<table border=\"1\" class=\"dataframe\">\n",
       "  <thead>\n",
       "    <tr style=\"text-align: right;\">\n",
       "      <th></th>\n",
       "      <th>loss</th>\n",
       "      <th>val_loss</th>\n",
       "      <th>rmse_loss</th>\n",
       "      <th>rmse_val_loss</th>\n",
       "    </tr>\n",
       "  </thead>\n",
       "  <tbody>\n",
       "    <tr>\n",
       "      <th>0</th>\n",
       "      <td>1.451905e+06</td>\n",
       "      <td>1.114363e+06</td>\n",
       "      <td>1204.950296</td>\n",
       "      <td>1055.633812</td>\n",
       "    </tr>\n",
       "    <tr>\n",
       "      <th>1</th>\n",
       "      <td>1.212960e+06</td>\n",
       "      <td>1.113172e+06</td>\n",
       "      <td>1101.344689</td>\n",
       "      <td>1055.069573</td>\n",
       "    </tr>\n",
       "    <tr>\n",
       "      <th>2</th>\n",
       "      <td>1.202532e+06</td>\n",
       "      <td>1.173119e+06</td>\n",
       "      <td>1096.600350</td>\n",
       "      <td>1083.106300</td>\n",
       "    </tr>\n",
       "    <tr>\n",
       "      <th>3</th>\n",
       "      <td>1.193234e+06</td>\n",
       "      <td>1.262622e+06</td>\n",
       "      <td>1092.352293</td>\n",
       "      <td>1123.664375</td>\n",
       "    </tr>\n",
       "    <tr>\n",
       "      <th>4</th>\n",
       "      <td>1.182041e+06</td>\n",
       "      <td>1.235572e+06</td>\n",
       "      <td>1087.217186</td>\n",
       "      <td>1111.563019</td>\n",
       "    </tr>\n",
       "  </tbody>\n",
       "</table>\n",
       "</div>"
      ],
      "text/plain": [
       "           loss      val_loss    rmse_loss  rmse_val_loss\n",
       "0  1.451905e+06  1.114363e+06  1204.950296    1055.633812\n",
       "1  1.212960e+06  1.113172e+06  1101.344689    1055.069573\n",
       "2  1.202532e+06  1.173119e+06  1096.600350    1083.106300\n",
       "3  1.193234e+06  1.262622e+06  1092.352293    1123.664375\n",
       "4  1.182041e+06  1.235572e+06  1087.217186    1111.563019"
      ]
     },
     "execution_count": 106,
     "metadata": {},
     "output_type": "execute_result"
    }
   ],
   "source": [
    "losses[\"rmse_loss\"] = np.sqrt(losses[\"loss\"])\n",
    "losses[\"rmse_val_loss\"] = np.sqrt(losses[\"val_loss\"])\n",
    "losses.head()"
   ]
  },
  {
   "cell_type": "code",
   "execution_count": 109,
   "metadata": {},
   "outputs": [
    {
     "data": {
      "text/plain": [
       "<Figure size 720x720 with 0 Axes>"
      ]
     },
     "metadata": {},
     "output_type": "display_data"
    },
    {
     "data": {
      "image/png": "[encoded data removed]",
      "text/plain": [
       "<Figure size 432x288 with 1 Axes>"
      ]
     },
     "metadata": {
      "needs_background": "light"
     },
     "output_type": "display_data"
    }
   ],
   "source": [
    "plt.figure(figsize=(10,10))\n",
    "losses[[\"rmse_loss\",\"rmse_val_loss\"]].plot();"
   ]
  },
  {
   "cell_type": "code",
   "execution_count": 110,
   "metadata": {},
   "outputs": [
    {
     "data": {
      "text/html": [
       "<div>\n",
       "<style scoped>\n",
       "    .dataframe tbody tr th:only-of-type {\n",
       "        vertical-align: middle;\n",
       "    }\n",
       "\n",
       "    .dataframe tbody tr th {\n",
       "        vertical-align: top;\n",
       "    }\n",
       "\n",
       "    .dataframe thead th {\n",
       "        text-align: right;\n",
       "    }\n",
       "</style>\n",
       "<table border=\"1\" class=\"dataframe\">\n",
       "  <thead>\n",
       "    <tr style=\"text-align: right;\">\n",
       "      <th></th>\n",
       "      <th>rmse_loss</th>\n",
       "      <th>rmse_val_loss</th>\n",
       "    </tr>\n",
       "  </thead>\n",
       "  <tbody>\n",
       "    <tr>\n",
       "      <th>195</th>\n",
       "      <td>1017.716330</td>\n",
       "      <td>978.762585</td>\n",
       "    </tr>\n",
       "    <tr>\n",
       "      <th>196</th>\n",
       "      <td>1007.737241</td>\n",
       "      <td>978.405907</td>\n",
       "    </tr>\n",
       "    <tr>\n",
       "      <th>197</th>\n",
       "      <td>1006.095175</td>\n",
       "      <td>988.900054</td>\n",
       "    </tr>\n",
       "    <tr>\n",
       "      <th>198</th>\n",
       "      <td>1009.213703</td>\n",
       "      <td>966.926989</td>\n",
       "    </tr>\n",
       "    <tr>\n",
       "      <th>199</th>\n",
       "      <td>1011.470270</td>\n",
       "      <td>993.467975</td>\n",
       "    </tr>\n",
       "  </tbody>\n",
       "</table>\n",
       "</div>"
      ],
      "text/plain": [
       "       rmse_loss  rmse_val_loss\n",
       "195  1017.716330     978.762585\n",
       "196  1007.737241     978.405907\n",
       "197  1006.095175     988.900054\n",
       "198  1009.213703     966.926989\n",
       "199  1011.470270     993.467975"
      ]
     },
     "execution_count": 110,
     "metadata": {},
     "output_type": "execute_result"
    }
   ],
   "source": [
    "losses[[\"rmse_loss\",\"rmse_val_loss\"]].tail()"
   ]
  },
  {
   "cell_type": "code",
   "execution_count": null,
   "metadata": {},
   "outputs": [],
   "source": []
  }
 ],
 "metadata": {
  "kernelspec": {
   "display_name": "Python 3",
   "language": "python",
   "name": "python3"
  },
  "language_info": {
   "codemirror_mode": {
    "name": "ipython",
    "version": 3
   },
   "file_extension": ".py",
   "mimetype": "text/x-python",
   "name": "python",
   "nbconvert_exporter": "python",
   "pygments_lexer": "ipython3",
   "version": "3.7.7"
  }
 },
 "nbformat": 4,
 "nbformat_minor": 4
}
